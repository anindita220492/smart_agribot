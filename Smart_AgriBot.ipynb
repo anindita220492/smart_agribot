{
  "nbformat": 4,
  "nbformat_minor": 0,
  "metadata": {
    "colab": {
      "provenance": []
    },
    "kernelspec": {
      "name": "python3",
      "display_name": "Python 3"
    },
    "language_info": {
      "name": "python"
    }
  },
  "cells": [
    {
      "cell_type": "markdown",
      "source": [
        "Section A: Setup Gemini API"
      ],
      "metadata": {
        "id": "h57pTJ7My_LQ"
      }
    },
    {
      "cell_type": "code",
      "execution_count": null,
      "metadata": {
        "id": "37CaU7FBy0Df"
      },
      "outputs": [],
      "source": [
        "#Install Vertex AI SDK\n",
        "!pip install google-cloud-aiplatform --quiet"
      ]
    },
    {
      "cell_type": "code",
      "source": [
        "# Authenticate with my Google Cloud Account\n",
        "from google.colab import auth\n",
        "auth.authenticate_user()"
      ],
      "metadata": {
        "id": "_0vBl7ArzbOV"
      },
      "execution_count": null,
      "outputs": []
    },
    {
      "cell_type": "code",
      "source": [
        "#Initialize Vertex AI\n",
        "import vertexai\n",
        "from vertexai.language_models import ChatModel\n",
        "\n",
        "PROJECT_ID = \"clean-doodad-460707-p3\"\n",
        "vertexai.init(project=PROJECT_ID, location=\"us-central1\")"
      ],
      "metadata": {
        "id": "EkcpGQGszo73"
      },
      "execution_count": null,
      "outputs": []
    },
    {
      "cell_type": "code",
      "source": [
        "#Ask Gemini a question\n",
        "from vertexai.preview.generative_models import GenerativeModel\n",
        "\n",
        "model = GenerativeModel(\"gemini-2.0-flash-001\")\n",
        "response = model.generate_content(\"What are the common diseases in tomato plant?\")\n",
        "print (response.text)"
      ],
      "metadata": {
        "colab": {
          "base_uri": "https://localhost:8080/"
        },
        "id": "0FGz_kBxz_Uw",
        "outputId": "bd3e6e89-02cc-4c33-ff66-e737d6e100e2"
      },
      "execution_count": null,
      "outputs": [
        {
          "output_type": "stream",
          "name": "stdout",
          "text": [
            "Tomato plants are unfortunately susceptible to a wide range of diseases. Here's a breakdown of common tomato diseases, categorized for easier understanding:\n",
            "\n",
            "**I. Fungal Diseases:**\n",
            "\n",
            "*   **Early Blight (Alternaria solani):**\n",
            "    *   **Symptoms:** Dark brown spots with concentric rings (\"bullseye\" pattern) on lower leaves, starting from the oldest. Spots enlarge and can spread to stems and fruit. Yellowing around spots.\n",
            "    *   **Control:** Remove infected leaves, improve air circulation, use copper-based fungicides, rotate crops, mulch to prevent soil splash.\n",
            "\n",
            "*   **Septoria Leaf Spot (Septoria lycopersici):**\n",
            "    *   **Symptoms:** Small, circular spots with gray centers and dark brown margins on lower leaves. Numerous spots can cause defoliation.\n",
            "    *   **Control:** Remove infected leaves, improve air circulation, use copper-based or chlorothalonil fungicides, rotate crops, avoid overhead watering.\n",
            "\n",
            "*   **Late Blight (Phytophthora infestans):**  A devastating disease!\n",
            "    *   **Symptoms:**  Irregular, water-soaked lesions on leaves and stems that quickly turn brown/black. White, cottony growth (sporulation) often appears on the underside of leaves in humid conditions. Fruit develops firm, brown, greasy lesions.\n",
            "    *   **Control:**  Difficult to control once established. Use resistant varieties.  Fungicides containing chlorothalonil, mancozeb, or copper can help prevent spread, but timing is critical.  Remove and destroy infected plants.  Monitor weather reports for blight warnings.  Improve air circulation.\n",
            "\n",
            "*   **Fusarium Wilt (Fusarium oxysporum f. sp. lycopersici):**\n",
            "    *   **Symptoms:** Yellowing and wilting of lower leaves, often starting on one side of the plant. Vascular tissue (inside stems) shows a brown discoloration. Plant may be stunted and eventually die.\n",
            "    *   **Control:** Use resistant varieties (look for \"F\" on the seed packet or plant label).  Soil solarization. Crop rotation (long rotation, 3-4 years).  Maintain healthy soil.  Remove and destroy infected plants.  No effective chemical control.\n",
            "\n",
            "*   **Verticillium Wilt (Verticillium dahliae):**\n",
            "    *   **Symptoms:** Similar to Fusarium wilt, but often less severe. Yellowing and wilting of lower leaves, V-shaped lesions on leaf margins. Vascular tissue may show a light brown discoloration.\n",
            "    *   **Control:** Use resistant varieties (look for \"V\" on the seed packet or plant label).  Soil solarization. Crop rotation.  Maintain healthy soil.  Remove and destroy infected plants.  No effective chemical control.\n",
            "\n",
            "*   **Anthracnose (Colletotrichum coccodes):**\n",
            "    *   **Symptoms:**  Small, sunken, circular lesions on ripening fruit. Lesions may become covered with pink or orange spores in humid conditions.\n",
            "    *   **Control:** Crop rotation, remove infected fruit, use copper-based or chlorothalonil fungicides as a preventative.\n",
            "\n",
            "*   **Powdery Mildew (various fungi):**\n",
            "     *   **Symptoms:** White, powdery growth on the upper surfaces of leaves.\n",
            "     *   **Control:** Improve air circulation. Fungicides containing sulfur, neem oil, or potassium bicarbonate.\n",
            "\n",
            "*   **Gray Mold (Botrytis cinerea):**\n",
            "    *   **Symptoms:** Grayish-brown mold on leaves, stems, and fruit, particularly in humid conditions. Can cause blossom drop.\n",
            "    *   **Control:**  Improve air circulation, remove dead or decaying plant material, avoid overhead watering, fungicides containing captan or chlorothalonil.\n",
            "\n",
            "*   **Southern Blight (Sclerotium rolfsii):**\n",
            "    *   **Symptoms:**  Sudden wilting and death of plants. White, cottony mycelium growing on the stem near the soil line. Small, round, tan-colored sclerotia (resting structures) may be visible in the mycelium.\n",
            "    *   **Control:**  Crop rotation, soil solarization, improve drainage, remove and destroy infected plants.  Difficult to control.\n",
            "\n",
            "**II. Bacterial Diseases:**\n",
            "\n",
            "*   **Bacterial Speck (Pseudomonas syringae pv. tomato):**\n",
            "    *   **Symptoms:** Small, black specks on leaves, stems, and fruit. Specks on fruit may be surrounded by a greenish halo.\n",
            "    *   **Control:** Use disease-free seed and transplants. Avoid overhead watering. Copper-based fungicides can help prevent spread. Remove infected plants.\n",
            "\n",
            "*   **Bacterial Spot (Xanthomonas campestris pv. vesicatoria):**\n",
            "    *   **Symptoms:** Small, water-soaked spots on leaves that turn brown and develop a halo. Spots on fruit are raised and scabby.\n",
            "    *   **Control:** Use disease-free seed and transplants. Avoid overhead watering. Copper-based fungicides can help prevent spread. Remove infected plants.\n",
            "\n",
            "*   **Bacterial Canker (Clavibacter michiganensis subsp. michiganensis):**\n",
            "    *   **Symptoms:** Wilting of leaves, often starting on one side of the plant. Brown streaks on the stem. Birds-eye spots on fruit.  May cause cankers on the stem.\n",
            "    *   **Control:** Use disease-free seed and transplants.  Remove and destroy infected plants.  No effective chemical control.  Very difficult to eradicate.\n",
            "\n",
            "*   **Pith Necrosis (Pseudomonas spp.):**\n",
            "    *   **Symptoms:** Blackening and hollowing of the pith (center) of the stem, often starting near the soil line. Wilting of leaves.\n",
            "    *   **Control:** Avoid excessive nitrogen fertilization. Ensure good drainage. Remove and destroy infected plants.\n",
            "\n",
            "**III. Viral Diseases:**\n",
            "\n",
            "*   **Tomato Mosaic Virus (ToMV):**\n",
            "    *   **Symptoms:** Mottling (light and dark green patches) on leaves. Leaf distortion. Stunted growth. Reduced fruit yield.\n",
            "    *   **Control:** Use resistant varieties (look for \"Tm\" on the seed packet or plant label). Control aphids, which can transmit the virus. Remove and destroy infected plants. Wash hands thoroughly after handling plants. Avoid tobacco use around plants.\n",
            "\n",
            "*   **Tobacco Mosaic Virus (TMV):**\n",
            "    *   **Symptoms:** Very similar to Tomato Mosaic Virus.\n",
            "    *   **Control:** Same as Tomato Mosaic Virus.\n",
            "\n",
            "*   **Tomato Spotted Wilt Virus (TSWV):**\n",
            "    *   **Symptoms:** Ringspots, bronzing, and necrosis on leaves. Stunted growth. Uneven ripening and distortion of fruit.\n",
            "    *   **Control:** Control thrips, which transmit the virus. Remove and destroy infected plants.  Resistant varieties are available.\n",
            "\n",
            "*   **Curly Top Virus (Beet Curly Top Virus):**\n",
            "    *   **Symptoms:** Upward curling and yellowing of leaves. Stunted growth. Thickened veins. Fruit may ripen prematurely and be small and distorted.\n",
            "    *   **Control:** Control leafhoppers, which transmit the virus. Remove and destroy infected plants. Provide shade if possible, as stressed plants are more susceptible.\n",
            "\n",
            "**IV. Nematodes:**\n",
            "\n",
            "*   **Root-Knot Nematodes (Meloidogyne spp.):**\n",
            "    *   **Symptoms:** Galls (swellings) on the roots. Stunted growth. Wilting. Yellowing of leaves.\n",
            "    *   **Control:** Use resistant varieties (look for \"N\" on the seed packet or plant label). Soil solarization. Crop rotation.  Nematicides (chemical controls, use with caution).  Improve soil health.\n",
            "\n",
            "**V. Physiological Disorders:**\n",
            "\n",
            "These are not caused by pathogens but by environmental conditions:\n",
            "\n",
            "*   **Blossom-End Rot (BER):**\n",
            "    *   **Symptoms:** Dark, leathery spot on the blossom end of the fruit.\n",
            "    *   **Cause:** Calcium deficiency, often caused by inconsistent watering.\n",
            "    *   **Control:** Maintain consistent watering, especially during fruit development. Soil test to ensure adequate calcium levels. Mulch to retain moisture.\n",
            "\n",
            "*   **Sunscald:**\n",
            "    *   **Symptoms:** White or yellow patches on fruit exposed to direct sunlight, often becoming blistered or cracked.\n",
            "    *   **Cause:** Excessive exposure to sunlight, especially after pruning or defoliation.\n",
            "    *   **Control:** Provide shade for plants during the hottest part of the day. Avoid excessive pruning.\n",
            "\n",
            "*   **Fruit Cracking:**\n",
            "    *   **Symptoms:** Cracks on the surface of the fruit.\n",
            "    *   **Cause:** Rapid changes in soil moisture, especially after a dry spell.\n",
            "    *   **Control:** Maintain consistent watering. Mulch to retain moisture. Choose crack-resistant varieties.\n",
            "\n",
            "**Key Strategies for Preventing Tomato Diseases:**\n",
            "\n",
            "*   **Choose Resistant Varieties:**  This is the *most* important step. Look for varieties labeled with letters like \"V,\" \"F,\" \"N,\" \"T,\" \"A,\"  \"St,\" and \"L\" indicating resistance to Verticillium wilt, Fusarium wilt, nematodes, Tobacco mosaic virus, Alternaria stem canker, Stemphylium gray leaf spot, and Late blight, respectively.\n",
            "\n",
            "*   **Start with Healthy Transplants:**  Buy from a reputable source or start your own seedlings using disease-free soil.\n",
            "\n",
            "*   **Proper Spacing:**  Allow adequate air circulation between plants to reduce humidity.\n",
            "\n",
            "*   **Water Properly:**  Water deeply and infrequently, avoiding overhead watering to minimize leaf wetness. Water at the base of the plant.\n",
            "\n",
            "*   **Good Soil Drainage:**  Ensure the soil drains well to prevent root rot.\n",
            "\n",
            "*   **Soil Health:**  Amend the soil with compost and other organic matter to improve drainage, nutrient content, and overall soil health.\n",
            "\n",
            "*   **Crop Rotation:**  Avoid planting tomatoes in the same location year after year to prevent the buildup of soilborne pathogens.\n",
            "\n",
            "*   **Mulching:**  Apply mulch (straw, wood chips, or plastic) to suppress weeds, retain moisture, and prevent soil splash.\n",
            "\n",
            "*   **Pruning:**  Prune suckers to improve air circulation and sunlight penetration.\n",
            "\n",
            "*   **Sanitation:**  Remove and destroy infected plant material to prevent the spread of disease. Clean pruning tools regularly with a bleach solution.\n",
            "\n",
            "*   **Monitoring:**  Inspect plants regularly for signs of disease and pests.\n",
            "\n",
            "*   **Fungicides (Use Judiciously):**  If necessary, use appropriate fungicides preventatively or at the first sign of disease. Follow label instructions carefully. Copper-based fungicides, chlorothalonil, and mancozeb are common options.\n",
            "\n",
            "By following these guidelines, you can significantly reduce the risk of tomato diseases and enjoy a bountiful harvest.  Good luck!\n",
            "\n"
          ]
        }
      ]
    },
    {
      "cell_type": "markdown",
      "source": [
        "**Section B: Simulate Diseases Detection**"
      ],
      "metadata": {
        "id": "0_JFbIIq2_yI"
      }
    },
    {
      "cell_type": "code",
      "source": [
        "#Running cell to upload files\n",
        "from google.colab import files\n",
        "uploaded = files.upload()"
      ],
      "metadata": {
        "colab": {
          "base_uri": "https://localhost:8080/",
          "height": 73
        },
        "id": "jrmeSKcH3Elo",
        "outputId": "489ba89e-4754-4182-ec5d-d8276042bb4f"
      },
      "execution_count": null,
      "outputs": [
        {
          "output_type": "display_data",
          "data": {
            "text/plain": [
              "<IPython.core.display.HTML object>"
            ],
            "text/html": [
              "\n",
              "     <input type=\"file\" id=\"files-3f0f84ed-6533-45bd-b70f-45dcffb4054f\" name=\"files[]\" multiple disabled\n",
              "        style=\"border:none\" />\n",
              "     <output id=\"result-3f0f84ed-6533-45bd-b70f-45dcffb4054f\">\n",
              "      Upload widget is only available when the cell has been executed in the\n",
              "      current browser session. Please rerun this cell to enable.\n",
              "      </output>\n",
              "      <script>// Copyright 2017 Google LLC\n",
              "//\n",
              "// Licensed under the Apache License, Version 2.0 (the \"License\");\n",
              "// you may not use this file except in compliance with the License.\n",
              "// You may obtain a copy of the License at\n",
              "//\n",
              "//      http://www.apache.org/licenses/LICENSE-2.0\n",
              "//\n",
              "// Unless required by applicable law or agreed to in writing, software\n",
              "// distributed under the License is distributed on an \"AS IS\" BASIS,\n",
              "// WITHOUT WARRANTIES OR CONDITIONS OF ANY KIND, either express or implied.\n",
              "// See the License for the specific language governing permissions and\n",
              "// limitations under the License.\n",
              "\n",
              "/**\n",
              " * @fileoverview Helpers for google.colab Python module.\n",
              " */\n",
              "(function(scope) {\n",
              "function span(text, styleAttributes = {}) {\n",
              "  const element = document.createElement('span');\n",
              "  element.textContent = text;\n",
              "  for (const key of Object.keys(styleAttributes)) {\n",
              "    element.style[key] = styleAttributes[key];\n",
              "  }\n",
              "  return element;\n",
              "}\n",
              "\n",
              "// Max number of bytes which will be uploaded at a time.\n",
              "const MAX_PAYLOAD_SIZE = 100 * 1024;\n",
              "\n",
              "function _uploadFiles(inputId, outputId) {\n",
              "  const steps = uploadFilesStep(inputId, outputId);\n",
              "  const outputElement = document.getElementById(outputId);\n",
              "  // Cache steps on the outputElement to make it available for the next call\n",
              "  // to uploadFilesContinue from Python.\n",
              "  outputElement.steps = steps;\n",
              "\n",
              "  return _uploadFilesContinue(outputId);\n",
              "}\n",
              "\n",
              "// This is roughly an async generator (not supported in the browser yet),\n",
              "// where there are multiple asynchronous steps and the Python side is going\n",
              "// to poll for completion of each step.\n",
              "// This uses a Promise to block the python side on completion of each step,\n",
              "// then passes the result of the previous step as the input to the next step.\n",
              "function _uploadFilesContinue(outputId) {\n",
              "  const outputElement = document.getElementById(outputId);\n",
              "  const steps = outputElement.steps;\n",
              "\n",
              "  const next = steps.next(outputElement.lastPromiseValue);\n",
              "  return Promise.resolve(next.value.promise).then((value) => {\n",
              "    // Cache the last promise value to make it available to the next\n",
              "    // step of the generator.\n",
              "    outputElement.lastPromiseValue = value;\n",
              "    return next.value.response;\n",
              "  });\n",
              "}\n",
              "\n",
              "/**\n",
              " * Generator function which is called between each async step of the upload\n",
              " * process.\n",
              " * @param {string} inputId Element ID of the input file picker element.\n",
              " * @param {string} outputId Element ID of the output display.\n",
              " * @return {!Iterable<!Object>} Iterable of next steps.\n",
              " */\n",
              "function* uploadFilesStep(inputId, outputId) {\n",
              "  const inputElement = document.getElementById(inputId);\n",
              "  inputElement.disabled = false;\n",
              "\n",
              "  const outputElement = document.getElementById(outputId);\n",
              "  outputElement.innerHTML = '';\n",
              "\n",
              "  const pickedPromise = new Promise((resolve) => {\n",
              "    inputElement.addEventListener('change', (e) => {\n",
              "      resolve(e.target.files);\n",
              "    });\n",
              "  });\n",
              "\n",
              "  const cancel = document.createElement('button');\n",
              "  inputElement.parentElement.appendChild(cancel);\n",
              "  cancel.textContent = 'Cancel upload';\n",
              "  const cancelPromise = new Promise((resolve) => {\n",
              "    cancel.onclick = () => {\n",
              "      resolve(null);\n",
              "    };\n",
              "  });\n",
              "\n",
              "  // Wait for the user to pick the files.\n",
              "  const files = yield {\n",
              "    promise: Promise.race([pickedPromise, cancelPromise]),\n",
              "    response: {\n",
              "      action: 'starting',\n",
              "    }\n",
              "  };\n",
              "\n",
              "  cancel.remove();\n",
              "\n",
              "  // Disable the input element since further picks are not allowed.\n",
              "  inputElement.disabled = true;\n",
              "\n",
              "  if (!files) {\n",
              "    return {\n",
              "      response: {\n",
              "        action: 'complete',\n",
              "      }\n",
              "    };\n",
              "  }\n",
              "\n",
              "  for (const file of files) {\n",
              "    const li = document.createElement('li');\n",
              "    li.append(span(file.name, {fontWeight: 'bold'}));\n",
              "    li.append(span(\n",
              "        `(${file.type || 'n/a'}) - ${file.size} bytes, ` +\n",
              "        `last modified: ${\n",
              "            file.lastModifiedDate ? file.lastModifiedDate.toLocaleDateString() :\n",
              "                                    'n/a'} - `));\n",
              "    const percent = span('0% done');\n",
              "    li.appendChild(percent);\n",
              "\n",
              "    outputElement.appendChild(li);\n",
              "\n",
              "    const fileDataPromise = new Promise((resolve) => {\n",
              "      const reader = new FileReader();\n",
              "      reader.onload = (e) => {\n",
              "        resolve(e.target.result);\n",
              "      };\n",
              "      reader.readAsArrayBuffer(file);\n",
              "    });\n",
              "    // Wait for the data to be ready.\n",
              "    let fileData = yield {\n",
              "      promise: fileDataPromise,\n",
              "      response: {\n",
              "        action: 'continue',\n",
              "      }\n",
              "    };\n",
              "\n",
              "    // Use a chunked sending to avoid message size limits. See b/62115660.\n",
              "    let position = 0;\n",
              "    do {\n",
              "      const length = Math.min(fileData.byteLength - position, MAX_PAYLOAD_SIZE);\n",
              "      const chunk = new Uint8Array(fileData, position, length);\n",
              "      position += length;\n",
              "\n",
              "      const base64 = btoa(String.fromCharCode.apply(null, chunk));\n",
              "      yield {\n",
              "        response: {\n",
              "          action: 'append',\n",
              "          file: file.name,\n",
              "          data: base64,\n",
              "        },\n",
              "      };\n",
              "\n",
              "      let percentDone = fileData.byteLength === 0 ?\n",
              "          100 :\n",
              "          Math.round((position / fileData.byteLength) * 100);\n",
              "      percent.textContent = `${percentDone}% done`;\n",
              "\n",
              "    } while (position < fileData.byteLength);\n",
              "  }\n",
              "\n",
              "  // All done.\n",
              "  yield {\n",
              "    response: {\n",
              "      action: 'complete',\n",
              "    }\n",
              "  };\n",
              "}\n",
              "\n",
              "scope.google = scope.google || {};\n",
              "scope.google.colab = scope.google.colab || {};\n",
              "scope.google.colab._files = {\n",
              "  _uploadFiles,\n",
              "  _uploadFilesContinue,\n",
              "};\n",
              "})(self);\n",
              "</script> "
            ]
          },
          "metadata": {}
        },
        {
          "output_type": "stream",
          "name": "stdout",
          "text": [
            "Saving sample_crop_data.txt to sample_crop_data.txt\n"
          ]
        }
      ]
    },
    {
      "cell_type": "code",
      "source": [
        "def detect_disease_mock(sample_crop_data_txt):\n",
        "  if \"leaf\" in sample_crop_data_txt.lower():\n",
        "    return \"Powdery Mildew - Use sulfue based fungicide.\"\n",
        "  else:\n",
        "    return \"Unable to detect diseases. Try another image.\"\n",
        "print(detect_disease_mock(\"tomato_leaf_spot.jpg\")) # Corrected the function call"
      ],
      "metadata": {
        "colab": {
          "base_uri": "https://localhost:8080/"
        },
        "id": "4AvG90u3521i",
        "outputId": "91a90a48-f432-42ad-a170-291479ea3005"
      },
      "execution_count": null,
      "outputs": [
        {
          "output_type": "stream",
          "name": "stdout",
          "text": [
            "Powdery Mildew - Use sulfue based fungicide.\n"
          ]
        }
      ]
    },
    {
      "cell_type": "markdown",
      "source": [
        "**Section C: Fetch Weather Data**"
      ],
      "metadata": {
        "id": "aFJKbJeo7MWA"
      }
    },
    {
      "cell_type": "code",
      "source": [
        "API_KEY = \"48493aec6dae41d0b5b32002acd9546\""
      ],
      "metadata": {
        "id": "N-h9IN0L-I7_"
      },
      "execution_count": null,
      "outputs": []
    },
    {
      "cell_type": "code",
      "source": [
        "import requests\n",
        "\n",
        "def get_weather(city, api_key=API_KEY):\n",
        "    base_url = \"http://api.weatherapi.com/v1/current.json\"\n",
        "    params = {\"key\": api_key, \"q\": city}\n",
        "    response = requests.get(base_url, params=params)\n",
        "    data = response.json()"
      ],
      "metadata": {
        "id": "katXl7fC-PR_"
      },
      "execution_count": null,
      "outputs": []
    },
    {
      "cell_type": "code",
      "source": [
        "import requests\n",
        "\n",
        "def get_weather(city, api_key):\n",
        "    base_url = \"http://api.openweathermap.org/data/2.5/weather\"\n",
        "    params = {\n",
        "        \"q\": city,\n",
        "        \"appid\": api_key,\n",
        "        \"units\": \"metric\"\n",
        "    }\n",
        "\n",
        "    response = requests.get(base_url, params=params)\n",
        "    data = response.json()\n",
        "\n",
        "    if \"cod\" in data and data[\"cod\"] != 200:\n",
        "        print(f\"Error fetching weather data: {data['message']}\")\n",
        "        return None, None\n",
        "\n",
        "    weather = data[\"weather\"][0][\"description\"]\n",
        "    temp = data[\"main\"][\"temp\"]\n",
        "    return weather, temp\n",
        "\n",
        "# Example usage\n",
        "API_KEY = \"48493aec6dae41d0b5b32002acd95463\"  # Replace with your actual key\n",
        "weather, temp = get_weather(\"Chandannagar\", API_KEY)\n",
        "print(\"Weather:\", weather)\n",
        "print(\"Temperature:\", temp)"
      ],
      "metadata": {
        "colab": {
          "base_uri": "https://localhost:8080/"
        },
        "id": "lsaZYkWzBZqP",
        "outputId": "b89dcffd-dbdc-452e-df4d-53337fce4a7d"
      },
      "execution_count": null,
      "outputs": [
        {
          "output_type": "stream",
          "name": "stdout",
          "text": [
            "Weather: broken clouds\n",
            "Temperature: 37.94\n"
          ]
        }
      ]
    },
    {
      "cell_type": "markdown",
      "source": [
        "Upto this, I have built\n",
        "1. A workable Gemini chatbot\n",
        "2. A diseases dector mock\n",
        "3. A weather lookup\n",
        "\n",
        "\n",
        "\n",
        "\n"
      ],
      "metadata": {
        "id": "dB65t3FjBtm9"
      }
    },
    {
      "cell_type": "markdown",
      "source": [
        "**Step 2: Build the Streamlit App (Frontend)**"
      ],
      "metadata": {
        "id": "y_ihgTXzCPRV"
      }
    },
    {
      "cell_type": "code",
      "source": [
        "#utils/gemini_app.py\n",
        "!mkdir utils\n",
        "\n",
        "with open(\"utils/gemini_app.py\", \"w\") as f:\n",
        "  f.write(\"\"\"\n",
        "\n",
        "from vertexai.language_models import ChatModel\n",
        "import vertexai\n",
        "\n",
        "def ask_gemini(question: str, project_id: str, location: str = \"us-central1\") -> str:\n",
        "    vertexai.init(project=project_id, location=location)\n",
        "    chat_model = ChatModel.from_pretrained(\"chat-bison\")\n",
        "    chat = chat_model.start_chat()\n",
        "    response = chat.send_message(question)\n",
        "    return response.text\n",
        "\"\"\")\n"
      ],
      "metadata": {
        "id": "O5ikY7fuE2Sk"
      },
      "execution_count": null,
      "outputs": []
    },
    {
      "cell_type": "code",
      "source": [
        "#utils/diseases_classifier.py\n",
        "with open(\"utils/disease_classifier.py\", \"w\") as f:\n",
        "    f.write(\"\"\"\n",
        "def detect_disease(image_file):\n",
        "    if \"leaf\" in image_file.name.lower():\n",
        "        return \"Powdery Mildew - Use sulfur-based fungicide.\"\n",
        "    return \"Unable to detect disease. Please upload a clearer image.\"\n",
        "\"\"\")"
      ],
      "metadata": {
        "id": "VZqUjvXfFdBF"
      },
      "execution_count": null,
      "outputs": []
    },
    {
      "cell_type": "code",
      "source": [
        "# utils/weather_api.py\n",
        "with open(\"utils/weather_api.py\", \"w\") as f:\n",
        "    f.write(\"\"\"\n",
        "import requests\n",
        "\n",
        "def get_weather(city, api_key):\n",
        "    url = f\"https://api.openweathermap.org/data/2.5/weather?q={city}&appid={api_key}&units=metric\"\n",
        "    try:\n",
        "        response = requests.get(url).json()\n",
        "        weather = response['weather'][0]['description']\n",
        "        temp = response['main']['temp']\n",
        "        return weather, temp\n",
        "    except:\n",
        "        return \"Error\", \"N/A\"\n",
        "\"\"\")"
      ],
      "metadata": {
        "id": "N_2WcNNCF7HH"
      },
      "execution_count": null,
      "outputs": []
    },
    {
      "cell_type": "code",
      "source": [
        "!pip install streamlit --quiet\n",
        "\n",
        "import streamlit as st\n",
        "from utils.gemini_app import ask_gemini\n",
        "from utils.disease_classifier import detect_disease\n",
        "from utils.weather_api import get_weather\n",
        "\n",
        "PROJECT_ID = \"clean-doodad-460707-p3\"\n",
        "WEATHER_API_KEY = \"48493aec6dae41d0b5b32002acd9546\"\n",
        "\n",
        "st.set_page_config(page_title=\"Smart AgriBot\", layout=\"wide\")\n",
        "st.title(\"🌾 Smart AgriBot: AI Assistant for Small Farmers\")\n",
        "\n",
        "tab1, tab2, tab3 = st.tabs([\"💬 Ask AgriBot\", \"🧪 Diagnose Disease\", \"🌦️ Weather Info\"])\n",
        "\n",
        "with tab1:\n",
        "    query = st.text_input(\"Ask your agricultural question (in any language):\")\n",
        "    if st.button(\"Get Answer\") and query:\n",
        "        response = ask_gemini(query, project_id=PROJECT_ID)\n",
        "        st.success(response)\n",
        "\n",
        "with tab2:\n",
        "    st.write(\"Upload an image of a diseased plant leaf:\")\n",
        "    uploaded_image = st.file_uploader(\"Choose an image...\", type=[\"jpg\", \"jpeg\", \"png\"])\n",
        "    if uploaded_image:\n",
        "        result = detect_disease(uploaded_image)\n",
        "        st.info(f\"Disease Diagnosis: {result}\")\n",
        "        st.image(uploaded_image, caption=\"Uploaded Image\", use_column_width=True)\n",
        "\n",
        "with tab3:\n",
        "    city = st.text_input(\"Enter your city/village:\")\n",
        "    if st.button(\"Check Weather\") and city:\n",
        "        weather, temp = get_weather(city, api_key=WEATHER_API_KEY)\n",
        "        st.write(f\"🌤️ Weather: {weather}\")\n",
        "        st.write(f\"🌡️ Temperature: {temp}°C\")"
      ],
      "metadata": {
        "colab": {
          "base_uri": "https://localhost:8080/"
        },
        "id": "EnKvP7LMGHh7",
        "outputId": "a398f304-1773-4d98-c827-95660e29b5ce"
      },
      "execution_count": null,
      "outputs": [
        {
          "output_type": "stream",
          "name": "stderr",
          "text": [
            "2025-06-02 10:45:25.218 WARNING streamlit.runtime.scriptrunner_utils.script_run_context: Thread 'MainThread': missing ScriptRunContext! This warning can be ignored when running in bare mode.\n",
            "2025-06-02 10:45:25.220 WARNING streamlit.runtime.scriptrunner_utils.script_run_context: Thread 'MainThread': missing ScriptRunContext! This warning can be ignored when running in bare mode.\n",
            "2025-06-02 10:45:25.321 \n",
            "  \u001b[33m\u001b[1mWarning:\u001b[0m to view this Streamlit app on a browser, run it with the following\n",
            "  command:\n",
            "\n",
            "    streamlit run /usr/local/lib/python3.11/dist-packages/colab_kernel_launcher.py [ARGUMENTS]\n",
            "2025-06-02 10:45:25.322 Thread 'MainThread': missing ScriptRunContext! This warning can be ignored when running in bare mode.\n",
            "2025-06-02 10:45:25.326 Thread 'MainThread': missing ScriptRunContext! This warning can be ignored when running in bare mode.\n",
            "2025-06-02 10:45:25.326 Thread 'MainThread': missing ScriptRunContext! This warning can be ignored when running in bare mode.\n",
            "2025-06-02 10:45:25.329 Thread 'MainThread': missing ScriptRunContext! This warning can be ignored when running in bare mode.\n",
            "2025-06-02 10:45:25.330 Thread 'MainThread': missing ScriptRunContext! This warning can be ignored when running in bare mode.\n",
            "2025-06-02 10:45:25.332 Thread 'MainThread': missing ScriptRunContext! This warning can be ignored when running in bare mode.\n",
            "2025-06-02 10:45:25.335 Thread 'MainThread': missing ScriptRunContext! This warning can be ignored when running in bare mode.\n",
            "2025-06-02 10:45:25.336 Thread 'MainThread': missing ScriptRunContext! This warning can be ignored when running in bare mode.\n",
            "2025-06-02 10:45:25.338 Thread 'MainThread': missing ScriptRunContext! This warning can be ignored when running in bare mode.\n",
            "2025-06-02 10:45:25.339 Session state does not function when running a script without `streamlit run`\n",
            "2025-06-02 10:45:25.341 Thread 'MainThread': missing ScriptRunContext! This warning can be ignored when running in bare mode.\n",
            "2025-06-02 10:45:25.342 Thread 'MainThread': missing ScriptRunContext! This warning can be ignored when running in bare mode.\n",
            "2025-06-02 10:45:25.343 Thread 'MainThread': missing ScriptRunContext! This warning can be ignored when running in bare mode.\n",
            "2025-06-02 10:45:25.344 Thread 'MainThread': missing ScriptRunContext! This warning can be ignored when running in bare mode.\n",
            "2025-06-02 10:45:25.345 Thread 'MainThread': missing ScriptRunContext! This warning can be ignored when running in bare mode.\n",
            "2025-06-02 10:45:25.346 Thread 'MainThread': missing ScriptRunContext! This warning can be ignored when running in bare mode.\n",
            "2025-06-02 10:45:25.347 Thread 'MainThread': missing ScriptRunContext! This warning can be ignored when running in bare mode.\n",
            "2025-06-02 10:45:25.349 Thread 'MainThread': missing ScriptRunContext! This warning can be ignored when running in bare mode.\n",
            "2025-06-02 10:45:25.350 Thread 'MainThread': missing ScriptRunContext! This warning can be ignored when running in bare mode.\n",
            "2025-06-02 10:45:25.351 Thread 'MainThread': missing ScriptRunContext! This warning can be ignored when running in bare mode.\n",
            "2025-06-02 10:45:25.351 Thread 'MainThread': missing ScriptRunContext! This warning can be ignored when running in bare mode.\n",
            "2025-06-02 10:45:25.352 Thread 'MainThread': missing ScriptRunContext! This warning can be ignored when running in bare mode.\n",
            "2025-06-02 10:45:25.353 Thread 'MainThread': missing ScriptRunContext! This warning can be ignored when running in bare mode.\n",
            "2025-06-02 10:45:25.354 Thread 'MainThread': missing ScriptRunContext! This warning can be ignored when running in bare mode.\n",
            "2025-06-02 10:45:25.355 Thread 'MainThread': missing ScriptRunContext! This warning can be ignored when running in bare mode.\n",
            "2025-06-02 10:45:25.355 Thread 'MainThread': missing ScriptRunContext! This warning can be ignored when running in bare mode.\n",
            "2025-06-02 10:45:25.356 Thread 'MainThread': missing ScriptRunContext! This warning can be ignored when running in bare mode.\n",
            "2025-06-02 10:45:25.357 Thread 'MainThread': missing ScriptRunContext! This warning can be ignored when running in bare mode.\n",
            "2025-06-02 10:45:25.358 Thread 'MainThread': missing ScriptRunContext! This warning can be ignored when running in bare mode.\n",
            "2025-06-02 10:45:25.358 Thread 'MainThread': missing ScriptRunContext! This warning can be ignored when running in bare mode.\n",
            "2025-06-02 10:45:25.359 Thread 'MainThread': missing ScriptRunContext! This warning can be ignored when running in bare mode.\n",
            "2025-06-02 10:45:25.359 Thread 'MainThread': missing ScriptRunContext! This warning can be ignored when running in bare mode.\n",
            "2025-06-02 10:45:25.360 Thread 'MainThread': missing ScriptRunContext! This warning can be ignored when running in bare mode.\n",
            "2025-06-02 10:45:25.361 Thread 'MainThread': missing ScriptRunContext! This warning can be ignored when running in bare mode.\n",
            "2025-06-02 10:45:25.362 Thread 'MainThread': missing ScriptRunContext! This warning can be ignored when running in bare mode.\n"
          ]
        }
      ]
    },
    {
      "cell_type": "markdown",
      "source": [],
      "metadata": {
        "id": "x5yn8NWBGHFS"
      }
    }
  ]
}
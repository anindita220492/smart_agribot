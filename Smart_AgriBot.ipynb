{
  "nbformat": 4,
  "nbformat_minor": 0,
  "metadata": {
    "colab": {
      "provenance": [],
      "authorship_tag": "ABX9TyOltfqsRp1fxLWpmqeOgwFk",
      "include_colab_link": true
    },
    "kernelspec": {
      "name": "python3",
      "display_name": "Python 3"
    },
    "language_info": {
      "name": "python"
    }
  },
  "cells": [
    {
      "cell_type": "markdown",
      "metadata": {
        "id": "view-in-github",
        "colab_type": "text"
      },
      "source": [
        "<a href=\"https://colab.research.google.com/github/anindita220492/smart_agribot/blob/main/Smart_AgriBot.ipynb\" target=\"_parent\"><img src=\"https://colab.research.google.com/assets/colab-badge.svg\" alt=\"Open In Colab\"/></a>"
      ]
    },
    {
      "cell_type": "markdown",
      "source": [
        "Section A: Setup Gemini API"
      ],
      "metadata": {
        "id": "h57pTJ7My_LQ"
      }
    },
    {
      "cell_type": "code",
      "execution_count": 1,
      "metadata": {
        "id": "37CaU7FBy0Df"
      },
      "outputs": [],
      "source": [
        "#Install Vertex AI SDK\n",
        "!pip install google-cloud-aiplatform --quiet"
      ]
    },
    {
      "cell_type": "code",
      "source": [
        "# Authenticate with my Google Cloud Account\n",
        "from google.colab import auth\n",
        "auth.authenticate_user()"
      ],
      "metadata": {
        "id": "_0vBl7ArzbOV"
      },
      "execution_count": 2,
      "outputs": []
    },
    {
      "cell_type": "code",
      "source": [
        "#Initialize Vertex AI\n",
        "import vertexai\n",
        "from vertexai.language_models import ChatModel\n",
        "\n",
        "PROJECT_ID = \"clean-doodad-460707-p3\"\n",
        "vertexai.init(project=PROJECT_ID, location=\"us-central1\")"
      ],
      "metadata": {
        "id": "EkcpGQGszo73"
      },
      "execution_count": 3,
      "outputs": []
    },
    {
      "cell_type": "code",
      "source": [
        "#Ask Gemini a question\n",
        "from vertexai.preview.generative_models import GenerativeModel\n",
        "\n",
        "model = GenerativeModel(\"gemini-2.0-flash-001\")\n",
        "response = model.generate_content(\"What are the common diseases in tomato plant?\")\n",
        "print (response.text)"
      ],
      "metadata": {
        "id": "0FGz_kBxz_Uw",
        "colab": {
          "base_uri": "https://localhost:8080/"
        },
        "outputId": "e23df3d7-34ed-4761-b41b-5c4874f4c9e3"
      },
      "execution_count": 4,
      "outputs": [
        {
          "output_type": "stream",
          "name": "stdout",
          "text": [
            "Tomato plants are susceptible to a wide variety of diseases, both fungal, bacterial, and viral. Here's a breakdown of some of the most common ones:\n",
            "\n",
            "**Fungal Diseases:**\n",
            "\n",
            "*   **Early Blight (Alternaria solani):**\n",
            "    *   **Symptoms:** Dark brown spots with concentric rings (bullseye pattern) appear on lower leaves, gradually moving upwards.  Fruit can also develop similar spots, often near the stem end.\n",
            "    *   **Conditions:** Warm, humid weather, often after periods of rain or overhead watering.\n",
            "    *   **Control:**  Good sanitation (remove infected leaves), crop rotation, proper spacing for air circulation, fungicide applications (copper-based, chlorothalonil, mancozeb).\n",
            "\n",
            "*   **Late Blight (Phytophthora infestans):**\n",
            "    *   **Symptoms:** Irregular, water-soaked lesions on leaves, stems, and fruit.  A white, fuzzy growth may appear on the undersides of leaves in humid conditions. Fruit turns brown, leathery, and decays rapidly.  Spreads very quickly.\n",
            "    *   **Conditions:** Cool, wet weather (ideal: 60-70°F with high humidity).\n",
            "    *   **Control:**  Very difficult to control once established. Prevention is key. Use resistant varieties, ensure good air circulation, avoid overhead watering, and apply preventative fungicides (chlorothalonil, copper-based). Remove and destroy infected plants immediately.\n",
            "\n",
            "*   **Septoria Leaf Spot (Septoria lycopersici):**\n",
            "    *   **Symptoms:** Small, circular spots on lower leaves, with a grayish-white center and a dark brown border. Spots often merge, causing leaves to yellow, brown, and drop.\n",
            "    *   **Conditions:** Warm, humid weather, especially after rainfall.\n",
            "    *   **Control:**  Remove and destroy infected leaves, improve air circulation, avoid overhead watering, mulch around plants to prevent soil splash, and apply fungicides (copper-based, chlorothalonil).\n",
            "\n",
            "*   **Fusarium Wilt (Fusarium oxysporum f. sp. lycopersici):**\n",
            "    *   **Symptoms:**  Yellowing of lower leaves, often starting on one side of the plant.  Wilting occurs even when the soil is moist.  A brown discoloration of the vascular tissue (inside the stem) is characteristic.\n",
            "    *   **Conditions:** Warm soil temperatures.  The fungus lives in the soil.\n",
            "    *   **Control:**  Use resistant varieties (look for \"F\" on the plant tag), practice crop rotation, solarize the soil, and improve soil drainage.  There is no cure for infected plants.\n",
            "\n",
            "*   **Verticillium Wilt (Verticillium dahliae):**\n",
            "    *   **Symptoms:** Similar to Fusarium wilt – yellowing of lower leaves, wilting.  However, the vascular discoloration may be less pronounced.  V-shaped lesions may develop on leaves.\n",
            "    *   **Conditions:** Cooler soil temperatures than Fusarium wilt. The fungus lives in the soil.\n",
            "    *   **Control:**  Use resistant varieties (look for \"V\" on the plant tag), practice crop rotation, solarize the soil, and improve soil drainage.  There is no cure for infected plants.\n",
            "\n",
            "*   **Anthracnose (Colletotrichum coccodes):**\n",
            "    *   **Symptoms:** Sunken, circular spots on ripe fruit, often developing after harvest.  These spots may have concentric rings.  Can also affect leaves and stems, but less common.\n",
            "    *   **Conditions:** Warm, humid weather.\n",
            "    *   **Control:**  Rotate crops, remove and destroy infected fruit and plant debris, mulch to prevent soil splash, and apply fungicides (copper-based, chlorothalonil).\n",
            "\n",
            "*   **Powdery Mildew:**\n",
            "    *   **Symptoms:** White, powdery growth on the surface of leaves and stems.  Can cause leaves to yellow and die.\n",
            "    *   **Conditions:** Humid weather with moderate temperatures.\n",
            "    *   **Control:**  Improve air circulation, avoid overcrowding, use resistant varieties, and apply fungicides (sulfur-based, neem oil, potassium bicarbonate).\n",
            "\n",
            "**Bacterial Diseases:**\n",
            "\n",
            "*   **Bacterial Speck (Pseudomonas syringae pv. tomato):**\n",
            "    *   **Symptoms:** Small, dark brown to black spots with a yellow halo on leaves, stems, and green fruit.  Spots on fruit are slightly raised and may be surrounded by a greasy-looking area.\n",
            "    *   **Conditions:** Cool, wet weather.\n",
            "    *   **Control:**  Use disease-free seed, avoid overhead watering, remove infected leaves, and apply copper-based bactericides.\n",
            "\n",
            "*   **Bacterial Spot (Xanthomonas campestris pv. vesicatoria):**\n",
            "    *   **Symptoms:** Similar to bacterial speck, but the spots are generally larger and more irregular.  Spots on fruit may be raised and scab-like.  No yellow halo.\n",
            "    *   **Conditions:** Warm, humid weather.\n",
            "    *   **Control:**  Use disease-free seed, avoid overhead watering, remove infected leaves, and apply copper-based bactericides. Resistant varieties exist.\n",
            "\n",
            "*   **Bacterial Canker (Clavibacter michiganensis subsp. michiganensis):**\n",
            "    *   **Symptoms:** Wilting, yellowing, and browning of leaves, often starting on one side of the plant.  Brown streaks may develop on the stem.  Fruit may have small, raised spots with a white halo (bird's-eye spot).\n",
            "    *   **Conditions:** Warm, humid weather.  The bacteria can be seed-borne.\n",
            "    *   **Control:**  Use disease-free seed, remove and destroy infected plants, disinfect tools, and practice crop rotation.  Copper sprays may provide some protection.\n",
            "\n",
            "**Viral Diseases:**\n",
            "\n",
            "*   **Tobacco Mosaic Virus (TMV) / Tomato Mosaic Virus (ToMV):**\n",
            "    *   **Symptoms:** Mottling (light and dark green patches) on leaves, stunted growth, distorted leaves (fern-like appearance), reduced fruit production.\n",
            "    *   **Conditions:** Spread by handling infected plants, tools, or tobacco products.\n",
            "    *   **Control:**  Use resistant varieties, wash hands and tools thoroughly, avoid using tobacco products near tomato plants, and remove and destroy infected plants.\n",
            "\n",
            "*   **Tomato Spotted Wilt Virus (TSWV):**\n",
            "    *   **Symptoms:** Ringspots, mottling, and yellowing on leaves. Stunted growth, bronzing of foliage. Fruit may have irregular shapes, blotches, or ringspots.\n",
            "    *   **Conditions:** Transmitted by thrips.\n",
            "    *   **Control:**  Control thrips populations, remove weeds that may harbor the virus, use resistant varieties.\n",
            "\n",
            "*   **Tomato Yellow Leaf Curl Virus (TYLCV):**\n",
            "    *   **Symptoms:** Yellowing of leaves, upward curling of leaves, stunted growth, reduced fruit set.\n",
            "    *   **Conditions:** Transmitted by whiteflies. More common in warmer climates.\n",
            "    *   **Control:**  Control whitefly populations, use resistant varieties.\n",
            "\n",
            "**General Preventative Measures (for all diseases):**\n",
            "\n",
            "*   **Use disease-free seed and transplants:**  Buy from reputable sources.\n",
            "*   **Choose resistant varieties:**  Look for letters like \"V,\" \"F,\" \"N,\" \"T,\" and \"A\" on plant tags, indicating resistance to Verticillium wilt, Fusarium wilt, nematodes, Tobacco Mosaic Virus, and Alternaria (early blight), respectively.\n",
            "*   **Proper spacing:**  Allow adequate air circulation between plants.\n",
            "*   **Good sanitation:**  Remove and destroy infected leaves and plant debris. Clean tools regularly.\n",
            "*   **Crop rotation:**  Avoid planting tomatoes (or other susceptible plants like peppers, eggplants, and potatoes) in the same location for at least 3 years.\n",
            "*   **Watering practices:**  Water at the base of the plants, avoiding overhead watering to minimize leaf wetness. Water early in the day so foliage can dry.\n",
            "*   **Mulching:**  Use mulch to prevent soil splash, which can spread disease spores.\n",
            "*   **Soil health:**  Ensure well-drained soil with adequate nutrients.\n",
            "*   **Monitor plants regularly:**  Early detection is key to successful disease management.\n",
            "*   **Proper fertilization:** Avoid over-fertilizing with nitrogen, which can promote lush growth that is more susceptible to disease.\n",
            "*   **Support your plants:** Staking or caging tomatoes helps with air circulation and keeps the plants off the ground.\n",
            "\n",
            "**Important Note:**  Disease identification can sometimes be tricky.  If you're unsure what disease your tomato plant has, consult your local agricultural extension office or a plant pathologist for accurate diagnosis and treatment recommendations.  Using the wrong treatment can be ineffective or even harmful.\n",
            "\n"
          ]
        }
      ]
    },
    {
      "cell_type": "markdown",
      "source": [
        "**Section B: Simulate Diseases Detection**"
      ],
      "metadata": {
        "id": "0_JFbIIq2_yI"
      }
    },
    {
      "cell_type": "code",
      "source": [
        "#Running cell to upload files\n",
        "from google.colab import files\n",
        "uploaded = files.upload()"
      ],
      "metadata": {
        "id": "jrmeSKcH3Elo",
        "colab": {
          "base_uri": "https://localhost:8080/",
          "height": 73
        },
        "outputId": "62dbfd8c-f995-46a5-900d-efee1f2f0a8a"
      },
      "execution_count": 6,
      "outputs": [
        {
          "output_type": "display_data",
          "data": {
            "text/plain": [
              "<IPython.core.display.HTML object>"
            ],
            "text/html": [
              "\n",
              "     <input type=\"file\" id=\"files-ee875523-b4db-4fbe-92b4-bd5b99f9b896\" name=\"files[]\" multiple disabled\n",
              "        style=\"border:none\" />\n",
              "     <output id=\"result-ee875523-b4db-4fbe-92b4-bd5b99f9b896\">\n",
              "      Upload widget is only available when the cell has been executed in the\n",
              "      current browser session. Please rerun this cell to enable.\n",
              "      </output>\n",
              "      <script>// Copyright 2017 Google LLC\n",
              "//\n",
              "// Licensed under the Apache License, Version 2.0 (the \"License\");\n",
              "// you may not use this file except in compliance with the License.\n",
              "// You may obtain a copy of the License at\n",
              "//\n",
              "//      http://www.apache.org/licenses/LICENSE-2.0\n",
              "//\n",
              "// Unless required by applicable law or agreed to in writing, software\n",
              "// distributed under the License is distributed on an \"AS IS\" BASIS,\n",
              "// WITHOUT WARRANTIES OR CONDITIONS OF ANY KIND, either express or implied.\n",
              "// See the License for the specific language governing permissions and\n",
              "// limitations under the License.\n",
              "\n",
              "/**\n",
              " * @fileoverview Helpers for google.colab Python module.\n",
              " */\n",
              "(function(scope) {\n",
              "function span(text, styleAttributes = {}) {\n",
              "  const element = document.createElement('span');\n",
              "  element.textContent = text;\n",
              "  for (const key of Object.keys(styleAttributes)) {\n",
              "    element.style[key] = styleAttributes[key];\n",
              "  }\n",
              "  return element;\n",
              "}\n",
              "\n",
              "// Max number of bytes which will be uploaded at a time.\n",
              "const MAX_PAYLOAD_SIZE = 100 * 1024;\n",
              "\n",
              "function _uploadFiles(inputId, outputId) {\n",
              "  const steps = uploadFilesStep(inputId, outputId);\n",
              "  const outputElement = document.getElementById(outputId);\n",
              "  // Cache steps on the outputElement to make it available for the next call\n",
              "  // to uploadFilesContinue from Python.\n",
              "  outputElement.steps = steps;\n",
              "\n",
              "  return _uploadFilesContinue(outputId);\n",
              "}\n",
              "\n",
              "// This is roughly an async generator (not supported in the browser yet),\n",
              "// where there are multiple asynchronous steps and the Python side is going\n",
              "// to poll for completion of each step.\n",
              "// This uses a Promise to block the python side on completion of each step,\n",
              "// then passes the result of the previous step as the input to the next step.\n",
              "function _uploadFilesContinue(outputId) {\n",
              "  const outputElement = document.getElementById(outputId);\n",
              "  const steps = outputElement.steps;\n",
              "\n",
              "  const next = steps.next(outputElement.lastPromiseValue);\n",
              "  return Promise.resolve(next.value.promise).then((value) => {\n",
              "    // Cache the last promise value to make it available to the next\n",
              "    // step of the generator.\n",
              "    outputElement.lastPromiseValue = value;\n",
              "    return next.value.response;\n",
              "  });\n",
              "}\n",
              "\n",
              "/**\n",
              " * Generator function which is called between each async step of the upload\n",
              " * process.\n",
              " * @param {string} inputId Element ID of the input file picker element.\n",
              " * @param {string} outputId Element ID of the output display.\n",
              " * @return {!Iterable<!Object>} Iterable of next steps.\n",
              " */\n",
              "function* uploadFilesStep(inputId, outputId) {\n",
              "  const inputElement = document.getElementById(inputId);\n",
              "  inputElement.disabled = false;\n",
              "\n",
              "  const outputElement = document.getElementById(outputId);\n",
              "  outputElement.innerHTML = '';\n",
              "\n",
              "  const pickedPromise = new Promise((resolve) => {\n",
              "    inputElement.addEventListener('change', (e) => {\n",
              "      resolve(e.target.files);\n",
              "    });\n",
              "  });\n",
              "\n",
              "  const cancel = document.createElement('button');\n",
              "  inputElement.parentElement.appendChild(cancel);\n",
              "  cancel.textContent = 'Cancel upload';\n",
              "  const cancelPromise = new Promise((resolve) => {\n",
              "    cancel.onclick = () => {\n",
              "      resolve(null);\n",
              "    };\n",
              "  });\n",
              "\n",
              "  // Wait for the user to pick the files.\n",
              "  const files = yield {\n",
              "    promise: Promise.race([pickedPromise, cancelPromise]),\n",
              "    response: {\n",
              "      action: 'starting',\n",
              "    }\n",
              "  };\n",
              "\n",
              "  cancel.remove();\n",
              "\n",
              "  // Disable the input element since further picks are not allowed.\n",
              "  inputElement.disabled = true;\n",
              "\n",
              "  if (!files) {\n",
              "    return {\n",
              "      response: {\n",
              "        action: 'complete',\n",
              "      }\n",
              "    };\n",
              "  }\n",
              "\n",
              "  for (const file of files) {\n",
              "    const li = document.createElement('li');\n",
              "    li.append(span(file.name, {fontWeight: 'bold'}));\n",
              "    li.append(span(\n",
              "        `(${file.type || 'n/a'}) - ${file.size} bytes, ` +\n",
              "        `last modified: ${\n",
              "            file.lastModifiedDate ? file.lastModifiedDate.toLocaleDateString() :\n",
              "                                    'n/a'} - `));\n",
              "    const percent = span('0% done');\n",
              "    li.appendChild(percent);\n",
              "\n",
              "    outputElement.appendChild(li);\n",
              "\n",
              "    const fileDataPromise = new Promise((resolve) => {\n",
              "      const reader = new FileReader();\n",
              "      reader.onload = (e) => {\n",
              "        resolve(e.target.result);\n",
              "      };\n",
              "      reader.readAsArrayBuffer(file);\n",
              "    });\n",
              "    // Wait for the data to be ready.\n",
              "    let fileData = yield {\n",
              "      promise: fileDataPromise,\n",
              "      response: {\n",
              "        action: 'continue',\n",
              "      }\n",
              "    };\n",
              "\n",
              "    // Use a chunked sending to avoid message size limits. See b/62115660.\n",
              "    let position = 0;\n",
              "    do {\n",
              "      const length = Math.min(fileData.byteLength - position, MAX_PAYLOAD_SIZE);\n",
              "      const chunk = new Uint8Array(fileData, position, length);\n",
              "      position += length;\n",
              "\n",
              "      const base64 = btoa(String.fromCharCode.apply(null, chunk));\n",
              "      yield {\n",
              "        response: {\n",
              "          action: 'append',\n",
              "          file: file.name,\n",
              "          data: base64,\n",
              "        },\n",
              "      };\n",
              "\n",
              "      let percentDone = fileData.byteLength === 0 ?\n",
              "          100 :\n",
              "          Math.round((position / fileData.byteLength) * 100);\n",
              "      percent.textContent = `${percentDone}% done`;\n",
              "\n",
              "    } while (position < fileData.byteLength);\n",
              "  }\n",
              "\n",
              "  // All done.\n",
              "  yield {\n",
              "    response: {\n",
              "      action: 'complete',\n",
              "    }\n",
              "  };\n",
              "}\n",
              "\n",
              "scope.google = scope.google || {};\n",
              "scope.google.colab = scope.google.colab || {};\n",
              "scope.google.colab._files = {\n",
              "  _uploadFiles,\n",
              "  _uploadFilesContinue,\n",
              "};\n",
              "})(self);\n",
              "</script> "
            ]
          },
          "metadata": {}
        },
        {
          "output_type": "stream",
          "name": "stdout",
          "text": [
            "Saving sample_crop_data.txt to sample_crop_data.txt\n"
          ]
        }
      ]
    },
    {
      "cell_type": "code",
      "source": [
        "def detect_disease_mock(sample_crop_data):\n",
        "  if \"leaf\" in sample_crop_data.lower():\n",
        "    return \"Powdery Mildew - Use sulfue based fungicide.\"\n",
        "  else:\n",
        "    return \"Unable to detect diseases. Try another image.\"\n",
        "print(detect_disease_mock(\"tomato_leaf_spot.jpg\")) # Corrected the function call"
      ],
      "metadata": {
        "id": "4AvG90u3521i",
        "colab": {
          "base_uri": "https://localhost:8080/"
        },
        "outputId": "43949812-3476-4241-e4ad-dec64398a808"
      },
      "execution_count": 9,
      "outputs": [
        {
          "output_type": "stream",
          "name": "stdout",
          "text": [
            "Powdery Mildew - Use sulfue based fungicide.\n"
          ]
        }
      ]
    },
    {
      "cell_type": "markdown",
      "source": [
        "**Section C: Fetch Weather Data**"
      ],
      "metadata": {
        "id": "aFJKbJeo7MWA"
      }
    },
    {
      "cell_type": "code",
      "source": [
        "API_KEY = \"48493aec6dae41d0b5b32002acd9546\""
      ],
      "metadata": {
        "id": "N-h9IN0L-I7_"
      },
      "execution_count": 10,
      "outputs": []
    },
    {
      "cell_type": "code",
      "source": [
        "import requests\n",
        "\n",
        "def get_weather(city, api_key=API_KEY):\n",
        "    base_url = \"http://api.weatherapi.com/v1/current.json\"\n",
        "    params = {\"key\": api_key, \"q\": city}\n",
        "    response = requests.get(base_url, params=params)\n",
        "    data = response.json()"
      ],
      "metadata": {
        "id": "katXl7fC-PR_"
      },
      "execution_count": 11,
      "outputs": []
    },
    {
      "cell_type": "code",
      "source": [
        "import requests\n",
        "\n",
        "def get_weather(city, api_key):\n",
        "    base_url = \"http://api.openweathermap.org/data/2.5/weather\"\n",
        "    params = {\n",
        "        \"q\": city,\n",
        "        \"appid\": api_key,\n",
        "        \"units\": \"metric\"\n",
        "    }\n",
        "\n",
        "    response = requests.get(base_url, params=params)\n",
        "    data = response.json()\n",
        "\n",
        "    if \"cod\" in data and data[\"cod\"] != 200:\n",
        "        print(f\"Error fetching weather data: {data['message']}\")\n",
        "        return None, None\n",
        "\n",
        "    weather = data[\"weather\"][0][\"description\"]\n",
        "    temp = data[\"main\"][\"temp\"]\n",
        "    return weather, temp\n",
        "\n",
        "# Example usage\n",
        "API_KEY = \"48493aec6dae41d0b5b32002acd95463\"  # Replace with your actual key\n",
        "weather, temp = get_weather(\"Chandannagar\", API_KEY)\n",
        "print(\"Weather:\", weather)\n",
        "print(\"Temperature:\", temp)"
      ],
      "metadata": {
        "id": "lsaZYkWzBZqP",
        "colab": {
          "base_uri": "https://localhost:8080/"
        },
        "outputId": "602a861e-8001-45a5-da34-2039189c9f93"
      },
      "execution_count": 12,
      "outputs": [
        {
          "output_type": "stream",
          "name": "stdout",
          "text": [
            "Weather: broken clouds\n",
            "Temperature: 32.94\n"
          ]
        }
      ]
    },
    {
      "cell_type": "markdown",
      "source": [
        "Upto this, I have built\n",
        "1. A workable Gemini chatbot\n",
        "2. A diseases dector mock\n",
        "3. A weather lookup\n",
        "\n",
        "\n",
        "\n",
        "\n"
      ],
      "metadata": {
        "id": "dB65t3FjBtm9"
      }
    },
    {
      "cell_type": "markdown",
      "source": [
        "**Step 2: Build the Streamlit App (Frontend)**"
      ],
      "metadata": {
        "id": "y_ihgTXzCPRV"
      }
    },
    {
      "cell_type": "code",
      "source": [
        "#utils/gemini_app.py\n",
        "!mkdir utils\n",
        "\n",
        "with open(\"utils/gemini_app.py\", \"w\") as f:\n",
        "  f.write(\"\"\"\n",
        "\n",
        "from vertexai.language_models import ChatModel\n",
        "import vertexai\n",
        "\n",
        "def ask_gemini(question: str, project_id: str, location: str = \"us-central1\") -> str:\n",
        "    vertexai.init(project=project_id, location=location)\n",
        "    chat_model = ChatModel.from_pretrained(\"chat-bison\")\n",
        "    chat = chat_model.start_chat()\n",
        "    response = chat.send_message(question)\n",
        "    return response.text\n",
        "\"\"\")\n"
      ],
      "metadata": {
        "id": "O5ikY7fuE2Sk"
      },
      "execution_count": 13,
      "outputs": []
    },
    {
      "cell_type": "code",
      "source": [
        "#utils/diseases_classifier.py\n",
        "with open(\"utils/disease_classifier.py\", \"w\") as f:\n",
        "    f.write(\"\"\"\n",
        "def detect_disease(image_file):\n",
        "    if \"leaf\" in image_file.name.lower():\n",
        "        return \"Powdery Mildew - Use sulfur-based fungicide.\"\n",
        "    return \"Unable to detect disease. Please upload a clearer image.\"\n",
        "\"\"\")"
      ],
      "metadata": {
        "id": "VZqUjvXfFdBF"
      },
      "execution_count": 14,
      "outputs": []
    },
    {
      "cell_type": "code",
      "source": [
        "# utils/weather_api.py\n",
        "with open(\"utils/weather_api.py\", \"w\") as f:\n",
        "    f.write(\"\"\"\n",
        "import requests\n",
        "\n",
        "def get_weather(city, api_key):\n",
        "    url = f\"https://api.openweathermap.org/data/2.5/weather?q={city}&appid={api_key}&units=metric\"\n",
        "    try:\n",
        "        response = requests.get(url).json()\n",
        "        weather = response['weather'][0]['description']\n",
        "        temp = response['main']['temp']\n",
        "        return weather, temp\n",
        "    except:\n",
        "        return \"Error\", \"N/A\"\n",
        "\"\"\")"
      ],
      "metadata": {
        "id": "N_2WcNNCF7HH"
      },
      "execution_count": 15,
      "outputs": []
    },
    {
      "cell_type": "code",
      "source": [
        "%%writefile streamlit_app.py\n",
        "\n",
        "\n",
        "#!pip install streamlit --quiet\n",
        "\n",
        "import streamlit as st\n",
        "from utils.gemini_app import ask_gemini\n",
        "from utils.disease_classifier import detect_disease\n",
        "from utils.weather_api import get_weather\n",
        "\n",
        "PROJECT_ID = st.secrets[\"PROJECT_ID\"]\n",
        "WEATHER_API_KEY = st.secrets[\"WEATHER_API_KEY\"]\n",
        "\n",
        "st.set_page_config(page_title=\"Smart AgriBot\", layout=\"wide\")\n",
        "st.title(\"🌾 Smart AgriBot: AI Assistant for Small Farmers\")\n",
        "\n",
        "tab1, tab2, tab3 = st.tabs([\"💬 Ask AgriBot\", \"🧪 Diagnose Disease\", \"🌦️ Weather Info\"])\n",
        "\n",
        "with tab1:\n",
        "    query = st.text_input(\"Ask your agricultural question (in any language):\")\n",
        "    if st.button(\"Get Answer\") and query:\n",
        "        response = ask_gemini(query, project_id=PROJECT_ID)\n",
        "        st.success(response)\n",
        "\n",
        "with tab2:\n",
        "    st.write(\"Upload an image of a diseased plant leaf:\")\n",
        "    uploaded_image = st.file_uploader(\"Choose an image...\", type=[\"jpg\", \"jpeg\", \"png\"])\n",
        "    if uploaded_image:\n",
        "        result = detect_disease(uploaded_image)\n",
        "        st.info(f\"Disease Diagnosis: {result}\")\n",
        "        st.image(uploaded_image, caption=\"Uploaded Image\", use_column_width=True)\n",
        "\n",
        "with tab3:\n",
        "    city = st.text_input(\"Enter your city/village:\")\n",
        "    if st.button(\"Check Weather\") and city:\n",
        "        weather, temp = get_weather(city, api_key=WEATHER_API_KEY)\n",
        "        st.write(f\"🌤️ Weather: {weather}\")\n",
        "        st.write(f\"🌡️ Temperature: {temp}°C\")"
      ],
      "metadata": {
        "id": "EnKvP7LMGHh7",
        "colab": {
          "base_uri": "https://localhost:8080/"
        },
        "outputId": "66c7631c-829b-473a-c02d-218aecdbbc5e"
      },
      "execution_count": 17,
      "outputs": [
        {
          "output_type": "stream",
          "name": "stdout",
          "text": [
            "Overwriting streamlit_app.py\n"
          ]
        }
      ]
    },
    {
      "cell_type": "markdown",
      "source": [],
      "metadata": {
        "id": "x5yn8NWBGHFS"
      }
    }
  ]
}